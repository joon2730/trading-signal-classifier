{
 "cells": [
  {
   "cell_type": "code",
   "execution_count": 1,
   "metadata": {},
   "outputs": [],
   "source": [
    "import dataloader.reader as rd\n",
    "import pandas as pd\n",
    "import numpy as np"
   ]
  },
  {
   "cell_type": "code",
   "execution_count": null,
   "metadata": {},
   "outputs": [
    {
     "data": {
      "text/plain": [
       "3944"
      ]
     },
     "execution_count": 6,
     "metadata": {},
     "output_type": "execute_result"
    }
   ],
   "source": [
    "labels = rd.read_labels('./data/labels/BTCUSD_1h_Binance.csv')\n",
    "labels.head()"
   ]
  },
  {
   "cell_type": "code",
   "execution_count": 9,
   "metadata": {},
   "outputs": [
    {
     "data": {
      "text/plain": [
       "(3944, 3155)"
      ]
     },
     "execution_count": 9,
     "metadata": {},
     "output_type": "execute_result"
    }
   ],
   "source": [
    "data_num = labels.shape[0]\n",
    "train_num = int(data_num * 0.8)\n",
    "data_num, train_num"
   ]
  },
  {
   "cell_type": "code",
   "execution_count": null,
   "metadata": {},
   "outputs": [],
   "source": [
    "seq_len = 10\n",
    "\n",
    "index_data = labels.index[:train_num]\n",
    "train_x = np.array([list(range(i - seq_len + 1, i + 1)) for i in index_data])\n",
    "train_y = labels['label'][:train_num].values"
   ]
  },
  {
   "cell_type": "code",
   "execution_count": 12,
   "metadata": {},
   "outputs": [
    {
     "data": {
      "text/plain": [
       "Index([   38,    39,    40,    42,   117,   118,   120,   121,   188,   189,\n",
       "       ...\n",
       "       52249, 52252, 52257, 52272, 52273, 52380, 52381, 52395, 52397, 52450],\n",
       "      dtype='int64', name='index', length=3155)"
      ]
     },
     "execution_count": 12,
     "metadata": {},
     "output_type": "execute_result"
    }
   ],
   "source": [
    "index_data"
   ]
  },
  {
   "cell_type": "code",
   "execution_count": 11,
   "metadata": {},
   "outputs": [
    {
     "data": {
      "text/plain": [
       "array([[   29,    30,    31, ...,    36,    37,    38],\n",
       "       [   30,    31,    32, ...,    37,    38,    39],\n",
       "       [   31,    32,    33, ...,    38,    39,    40],\n",
       "       ...,\n",
       "       [52386, 52387, 52388, ..., 52393, 52394, 52395],\n",
       "       [52388, 52389, 52390, ..., 52395, 52396, 52397],\n",
       "       [52441, 52442, 52443, ..., 52448, 52449, 52450]], shape=(3155, 10))"
      ]
     },
     "execution_count": 11,
     "metadata": {},
     "output_type": "execute_result"
    }
   ],
   "source": [
    "train_x"
   ]
  },
  {
   "cell_type": "code",
   "execution_count": 14,
   "metadata": {},
   "outputs": [
    {
     "data": {
      "text/plain": [
       "array([ 0, -1,  0, ..., -1,  0,  0], shape=(3155,))"
      ]
     },
     "execution_count": 14,
     "metadata": {},
     "output_type": "execute_result"
    }
   ],
   "source": [
    "train_y.values"
   ]
  }
 ],
 "metadata": {
  "kernelspec": {
   "display_name": "timemoe",
   "language": "python",
   "name": "python3"
  },
  "language_info": {
   "codemirror_mode": {
    "name": "ipython",
    "version": 3
   },
   "file_extension": ".py",
   "mimetype": "text/x-python",
   "name": "python",
   "nbconvert_exporter": "python",
   "pygments_lexer": "ipython3",
   "version": "3.10.16"
  }
 },
 "nbformat": 4,
 "nbformat_minor": 2
}
