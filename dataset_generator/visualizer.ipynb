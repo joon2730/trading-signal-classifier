{
 "cells": [
  {
   "cell_type": "code",
   "execution_count": 1,
   "metadata": {},
   "outputs": [],
   "source": [
    "import rawdata as dp\n",
    "import signal_generator as sig\n",
    "import matplotlib.pyplot as plt\n",
    "import seaborn as sns\n",
    "import pandas as pd\n",
    "import numpy as np\n",
    "sns.set()"
   ]
  },
  {
   "cell_type": "code",
   "execution_count": 2,
   "metadata": {},
   "outputs": [
    {
     "name": "stdout",
     "output_type": "stream",
     "text": [
      "YF.download() has changed argument auto_adjust default to True\n"
     ]
    },
    {
     "name": "stderr",
     "output_type": "stream",
     "text": [
      "[*********************100%***********************]  1 of 1 completed\n"
     ]
    },
    {
     "data": {
      "application/vnd.microsoft.datawrangler.viewer.v0+json": {
       "columns": [
        {
         "name": "index",
         "rawType": "int64",
         "type": "integer"
        },
        {
         "name": "Close",
         "rawType": "float64",
         "type": "float"
        },
        {
         "name": "signal",
         "rawType": "float64",
         "type": "float"
        }
       ],
       "conversionMethod": "pd.DataFrame",
       "ref": "f5b24637-1d3e-48f7-a99f-0a7e5539f8fd",
       "rows": [
        [
         "0",
         "16625.080078125",
         "0.0"
        ],
        [
         "1",
         "16688.470703125",
         "1.0"
        ],
        [
         "2",
         "16679.857421875",
         "0.0"
        ],
        [
         "3",
         "16863.23828125",
         "0.0"
        ],
        [
         "4",
         "16836.736328125",
         "0.0"
        ],
        [
         "5",
         "16951.96875",
         "0.0"
        ],
        [
         "6",
         "16955.078125",
         "0.0"
        ],
        [
         "7",
         "17091.14453125",
         "0.0"
        ],
        [
         "8",
         "17196.5546875",
         "0.0"
        ],
        [
         "9",
         "17446.29296875",
         "0.0"
        ],
        [
         "10",
         "17934.896484375",
         "0.0"
        ],
        [
         "11",
         "18869.587890625",
         "0.0"
        ],
        [
         "12",
         "19909.57421875",
         "0.0"
        ],
        [
         "13",
         "20976.298828125",
         "0.0"
        ],
        [
         "14",
         "20880.798828125",
         "0.0"
        ],
        [
         "15",
         "21169.6328125",
         "0.0"
        ],
        [
         "16",
         "21161.51953125",
         "0.0"
        ],
        [
         "17",
         "20688.78125",
         "0.0"
        ],
        [
         "18",
         "21086.79296875",
         "0.0"
        ],
        [
         "19",
         "22676.552734375",
         "0.0"
        ],
        [
         "20",
         "22777.625",
         "0.0"
        ],
        [
         "21",
         "22720.416015625",
         "0.0"
        ],
        [
         "22",
         "22934.431640625",
         "0.0"
        ],
        [
         "23",
         "22636.46875",
         "0.0"
        ],
        [
         "24",
         "23117.859375",
         "0.0"
        ],
        [
         "25",
         "23032.77734375",
         "0.0"
        ],
        [
         "26",
         "23078.728515625",
         "-1.0"
        ],
        [
         "27",
         "23031.08984375",
         "0.0"
        ],
        [
         "28",
         "23774.56640625",
         "0.0"
        ],
        [
         "29",
         "22840.138671875",
         "0.0"
        ],
        [
         "30",
         "23139.283203125",
         "0.0"
        ],
        [
         "31",
         "23723.76953125",
         "0.0"
        ],
        [
         "32",
         "23471.87109375",
         "0.0"
        ],
        [
         "33",
         "23449.322265625",
         "0.0"
        ],
        [
         "34",
         "23331.84765625",
         "0.0"
        ],
        [
         "35",
         "22955.666015625",
         "0.0"
        ],
        [
         "36",
         "22760.109375",
         "0.0"
        ],
        [
         "37",
         "23264.291015625",
         "0.0"
        ],
        [
         "38",
         "22939.3984375",
         "0.0"
        ],
        [
         "39",
         "21819.0390625",
         "0.0"
        ],
        [
         "40",
         "21651.18359375",
         "0.0"
        ],
        [
         "41",
         "21870.875",
         "0.0"
        ],
        [
         "42",
         "21788.203125",
         "0.0"
        ],
        [
         "43",
         "21808.1015625",
         "0.0"
        ],
        [
         "44",
         "22220.8046875",
         "0.0"
        ],
        [
         "45",
         "24307.841796875",
         "1.0"
        ],
        [
         "46",
         "23623.474609375",
         "0.0"
        ],
        [
         "47",
         "24565.6015625",
         "0.0"
        ],
        [
         "48",
         "24641.27734375",
         "0.0"
        ],
        [
         "49",
         "24327.642578125",
         "0.0"
        ]
       ],
       "shape": {
        "columns": 2,
        "rows": 731
       }
      },
      "text/html": [
       "<div>\n",
       "<style scoped>\n",
       "    .dataframe tbody tr th:only-of-type {\n",
       "        vertical-align: middle;\n",
       "    }\n",
       "\n",
       "    .dataframe tbody tr th {\n",
       "        vertical-align: top;\n",
       "    }\n",
       "\n",
       "    .dataframe thead th {\n",
       "        text-align: right;\n",
       "    }\n",
       "</style>\n",
       "<table border=\"1\" class=\"dataframe\">\n",
       "  <thead>\n",
       "    <tr style=\"text-align: right;\">\n",
       "      <th></th>\n",
       "      <th>Close</th>\n",
       "      <th>signal</th>\n",
       "    </tr>\n",
       "  </thead>\n",
       "  <tbody>\n",
       "    <tr>\n",
       "      <th>0</th>\n",
       "      <td>16625.080078</td>\n",
       "      <td>0.0</td>\n",
       "    </tr>\n",
       "    <tr>\n",
       "      <th>1</th>\n",
       "      <td>16688.470703</td>\n",
       "      <td>1.0</td>\n",
       "    </tr>\n",
       "    <tr>\n",
       "      <th>2</th>\n",
       "      <td>16679.857422</td>\n",
       "      <td>0.0</td>\n",
       "    </tr>\n",
       "    <tr>\n",
       "      <th>3</th>\n",
       "      <td>16863.238281</td>\n",
       "      <td>0.0</td>\n",
       "    </tr>\n",
       "    <tr>\n",
       "      <th>4</th>\n",
       "      <td>16836.736328</td>\n",
       "      <td>0.0</td>\n",
       "    </tr>\n",
       "    <tr>\n",
       "      <th>...</th>\n",
       "      <td>...</td>\n",
       "      <td>...</td>\n",
       "    </tr>\n",
       "    <tr>\n",
       "      <th>726</th>\n",
       "      <td>94164.859375</td>\n",
       "      <td>0.0</td>\n",
       "    </tr>\n",
       "    <tr>\n",
       "      <th>727</th>\n",
       "      <td>95163.929688</td>\n",
       "      <td>0.0</td>\n",
       "    </tr>\n",
       "    <tr>\n",
       "      <th>728</th>\n",
       "      <td>93530.226562</td>\n",
       "      <td>0.0</td>\n",
       "    </tr>\n",
       "    <tr>\n",
       "      <th>729</th>\n",
       "      <td>92643.210938</td>\n",
       "      <td>0.0</td>\n",
       "    </tr>\n",
       "    <tr>\n",
       "      <th>730</th>\n",
       "      <td>93429.203125</td>\n",
       "      <td>0.0</td>\n",
       "    </tr>\n",
       "  </tbody>\n",
       "</table>\n",
       "<p>731 rows × 2 columns</p>\n",
       "</div>"
      ],
      "text/plain": [
       "            Close  signal\n",
       "0    16625.080078     0.0\n",
       "1    16688.470703     1.0\n",
       "2    16679.857422     0.0\n",
       "3    16863.238281     0.0\n",
       "4    16836.736328     0.0\n",
       "..            ...     ...\n",
       "726  94164.859375     0.0\n",
       "727  95163.929688     0.0\n",
       "728  93530.226562     0.0\n",
       "729  92643.210938     0.0\n",
       "730  93429.203125     0.0\n",
       "\n",
       "[731 rows x 2 columns]"
      ]
     },
     "execution_count": 2,
     "metadata": {},
     "output_type": "execute_result"
    }
   ],
   "source": [
    "data = dp.fetch_ohlcv_online(start_date='2023-01-01', end_date='2025-01-01')\n",
    "signals = sig.MACD(data['Close'], signal_window=3)\n",
    "\n",
    "signals\n",
    "# signals[signals['signal'] != 0]"
   ]
  },
  {
   "cell_type": "code",
   "execution_count": 3,
   "metadata": {},
   "outputs": [
    {
     "data": {
      "image/png": "[encoded data removed]",
      "text/plain": [
       "<Figure size 1500x500 with 1 Axes>"
      ]
     },
     "metadata": {},
     "output_type": "display_data"
    }
   ],
   "source": [
    "buy_indices = signals.index[signals['signal'] == 1].tolist()\n",
    "sell_indices = signals.index[signals['signal'] == -1].tolist()\n",
    "\n",
    "fig = plt.figure(figsize = (15,5))\n",
    "plt.plot(signals['Close'], color='r', lw=2.)\n",
    "plt.plot(signals['Close'], '^', markersize=10, color='m', label = 'buying signal', markevery = buy_indices)\n",
    "plt.plot(signals['Close'], 'v', markersize=10, color='k', label = 'selling signal', markevery = sell_indices)\n",
    "plt.title('MACD Signal')\n",
    "plt.legend()\n",
    "plt.show()"
   ]
  },
  {
   "cell_type": "code",
   "execution_count": 4,
   "metadata": {},
   "outputs": [
    {
     "name": "stderr",
     "output_type": "stream",
     "text": [
      "/var/folders/54/9m1dh2kj565gsww4_f2jdm5r0000gn/T/ipykernel_75100/2283644635.py:7: SettingWithCopyWarning: \n",
      "A value is trying to be set on a copy of a slice from a DataFrame.\n",
      "Try using .loc[row_indexer,col_indexer] = value instead\n",
      "\n",
      "See the caveats in the documentation: https://pandas.pydata.org/pandas-docs/stable/user_guide/indexing.html#returning-a-view-versus-a-copy\n",
      "  signals['score'] = 0\n"
     ]
    },
    {
     "data": {
      "application/vnd.microsoft.datawrangler.viewer.v0+json": {
       "columns": [
        {
         "name": "index",
         "rawType": "int64",
         "type": "integer"
        },
        {
         "name": "Close",
         "rawType": "float64",
         "type": "float"
        },
        {
         "name": "signal",
         "rawType": "float64",
         "type": "float"
        },
        {
         "name": "score",
         "rawType": "float64",
         "type": "float"
        }
       ],
       "conversionMethod": "pd.DataFrame",
       "ref": "b926647e-6d6c-4347-afc5-abde0f480efb",
       "rows": [
        [
         "0",
         "16625.080078125",
         "0.0",
         "0.0"
        ],
        [
         "1",
         "16688.470703125",
         "1.0",
         "1.0"
        ],
        [
         "2",
         "16679.857421875",
         "0.0",
         "0.0"
        ],
        [
         "3",
         "16863.23828125",
         "0.0",
         "0.0"
        ],
        [
         "4",
         "16836.736328125",
         "0.0",
         "0.0"
        ],
        [
         "5",
         "16951.96875",
         "0.0",
         "0.0"
        ],
        [
         "6",
         "16955.078125",
         "0.0",
         "0.0"
        ],
        [
         "7",
         "17091.14453125",
         "0.0",
         "0.0"
        ],
        [
         "8",
         "17196.5546875",
         "0.0",
         "0.0"
        ],
        [
         "9",
         "17446.29296875",
         "0.0",
         "0.0"
        ],
        [
         "10",
         "17934.896484375",
         "0.0",
         "0.0"
        ],
        [
         "11",
         "18869.587890625",
         "0.0",
         "0.0"
        ],
        [
         "12",
         "19909.57421875",
         "0.0",
         "0.0"
        ],
        [
         "13",
         "20976.298828125",
         "0.0",
         "0.0"
        ],
        [
         "14",
         "20880.798828125",
         "0.0",
         "0.0"
        ],
        [
         "15",
         "21169.6328125",
         "0.0",
         "0.0"
        ],
        [
         "16",
         "21161.51953125",
         "0.0",
         "0.0"
        ],
        [
         "17",
         "20688.78125",
         "0.0",
         "0.0"
        ],
        [
         "18",
         "21086.79296875",
         "0.0",
         "0.0"
        ],
        [
         "19",
         "22676.552734375",
         "0.0",
         "0.0"
        ],
        [
         "20",
         "22777.625",
         "0.0",
         "0.0"
        ],
        [
         "21",
         "22720.416015625",
         "0.0",
         "0.0"
        ],
        [
         "22",
         "22934.431640625",
         "0.0",
         "0.0"
        ],
        [
         "23",
         "22636.46875",
         "0.0",
         "0.0"
        ],
        [
         "24",
         "23117.859375",
         "0.0",
         "0.0"
        ],
        [
         "25",
         "23032.77734375",
         "0.0",
         "0.0"
        ],
        [
         "26",
         "23078.728515625",
         "-1.0",
         "0.0"
        ],
        [
         "27",
         "23031.08984375",
         "0.0",
         "0.0"
        ],
        [
         "28",
         "23774.56640625",
         "0.0",
         "0.0"
        ],
        [
         "29",
         "22840.138671875",
         "0.0",
         "0.0"
        ],
        [
         "30",
         "23139.283203125",
         "0.0",
         "0.0"
        ],
        [
         "31",
         "23723.76953125",
         "0.0",
         "0.0"
        ],
        [
         "32",
         "23471.87109375",
         "0.0",
         "0.0"
        ],
        [
         "33",
         "23449.322265625",
         "0.0",
         "0.0"
        ],
        [
         "34",
         "23331.84765625",
         "0.0",
         "0.0"
        ],
        [
         "35",
         "22955.666015625",
         "0.0",
         "0.0"
        ],
        [
         "36",
         "22760.109375",
         "0.0",
         "0.0"
        ],
        [
         "37",
         "23264.291015625",
         "0.0",
         "0.0"
        ],
        [
         "38",
         "22939.3984375",
         "0.0",
         "0.0"
        ],
        [
         "39",
         "21819.0390625",
         "0.0",
         "0.0"
        ],
        [
         "40",
         "21651.18359375",
         "0.0",
         "0.0"
        ],
        [
         "41",
         "21870.875",
         "0.0",
         "0.0"
        ],
        [
         "42",
         "21788.203125",
         "0.0",
         "0.0"
        ],
        [
         "43",
         "21808.1015625",
         "0.0",
         "0.0"
        ],
        [
         "44",
         "22220.8046875",
         "0.0",
         "0.0"
        ],
        [
         "45",
         "24307.841796875",
         "1.0",
         "1.0"
        ],
        [
         "46",
         "23623.474609375",
         "0.0",
         "0.0"
        ],
        [
         "47",
         "24565.6015625",
         "0.0",
         "0.0"
        ],
        [
         "48",
         "24641.27734375",
         "0.0",
         "0.0"
        ],
        [
         "49",
         "24327.642578125",
         "0.0",
         "0.0"
        ]
       ],
       "shape": {
        "columns": 3,
        "rows": 691
       }
      },
      "text/html": [
       "<div>\n",
       "<style scoped>\n",
       "    .dataframe tbody tr th:only-of-type {\n",
       "        vertical-align: middle;\n",
       "    }\n",
       "\n",
       "    .dataframe tbody tr th {\n",
       "        vertical-align: top;\n",
       "    }\n",
       "\n",
       "    .dataframe thead th {\n",
       "        text-align: right;\n",
       "    }\n",
       "</style>\n",
       "<table border=\"1\" class=\"dataframe\">\n",
       "  <thead>\n",
       "    <tr style=\"text-align: right;\">\n",
       "      <th></th>\n",
       "      <th>Close</th>\n",
       "      <th>signal</th>\n",
       "      <th>score</th>\n",
       "    </tr>\n",
       "  </thead>\n",
       "  <tbody>\n",
       "    <tr>\n",
       "      <th>0</th>\n",
       "      <td>16625.080078</td>\n",
       "      <td>0.0</td>\n",
       "      <td>0.0</td>\n",
       "    </tr>\n",
       "    <tr>\n",
       "      <th>1</th>\n",
       "      <td>16688.470703</td>\n",
       "      <td>1.0</td>\n",
       "      <td>1.0</td>\n",
       "    </tr>\n",
       "    <tr>\n",
       "      <th>2</th>\n",
       "      <td>16679.857422</td>\n",
       "      <td>0.0</td>\n",
       "      <td>0.0</td>\n",
       "    </tr>\n",
       "    <tr>\n",
       "      <th>3</th>\n",
       "      <td>16863.238281</td>\n",
       "      <td>0.0</td>\n",
       "      <td>0.0</td>\n",
       "    </tr>\n",
       "    <tr>\n",
       "      <th>4</th>\n",
       "      <td>16836.736328</td>\n",
       "      <td>0.0</td>\n",
       "      <td>0.0</td>\n",
       "    </tr>\n",
       "    <tr>\n",
       "      <th>...</th>\n",
       "      <td>...</td>\n",
       "      <td>...</td>\n",
       "      <td>...</td>\n",
       "    </tr>\n",
       "    <tr>\n",
       "      <th>686</th>\n",
       "      <td>89845.851562</td>\n",
       "      <td>0.0</td>\n",
       "      <td>0.0</td>\n",
       "    </tr>\n",
       "    <tr>\n",
       "      <th>687</th>\n",
       "      <td>90542.640625</td>\n",
       "      <td>0.0</td>\n",
       "      <td>0.0</td>\n",
       "    </tr>\n",
       "    <tr>\n",
       "      <th>688</th>\n",
       "      <td>92343.789062</td>\n",
       "      <td>0.0</td>\n",
       "      <td>0.0</td>\n",
       "    </tr>\n",
       "    <tr>\n",
       "      <th>689</th>\n",
       "      <td>94339.492188</td>\n",
       "      <td>0.0</td>\n",
       "      <td>0.0</td>\n",
       "    </tr>\n",
       "    <tr>\n",
       "      <th>690</th>\n",
       "      <td>98504.726562</td>\n",
       "      <td>0.0</td>\n",
       "      <td>0.0</td>\n",
       "    </tr>\n",
       "  </tbody>\n",
       "</table>\n",
       "<p>691 rows × 3 columns</p>\n",
       "</div>"
      ],
      "text/plain": [
       "            Close  signal  score\n",
       "0    16625.080078     0.0    0.0\n",
       "1    16688.470703     1.0    1.0\n",
       "2    16679.857422     0.0    0.0\n",
       "3    16863.238281     0.0    0.0\n",
       "4    16836.736328     0.0    0.0\n",
       "..            ...     ...    ...\n",
       "686  89845.851562     0.0    0.0\n",
       "687  90542.640625     0.0    0.0\n",
       "688  92343.789062     0.0    0.0\n",
       "689  94339.492188     0.0    0.0\n",
       "690  98504.726562     0.0    0.0\n",
       "\n",
       "[691 rows x 3 columns]"
      ]
     },
     "execution_count": 4,
     "metadata": {},
     "output_type": "execute_result"
    }
   ],
   "source": [
    "import signal_labeller as sc\n",
    "\n",
    "signals = signals[:-40]\n",
    "\n",
    "signal_indices = signals.index[signals['signal'] != 0].tolist()\n",
    "\n",
    "signals['score'] = 0\n",
    "for i in signal_indices:\n",
    "    score = sc.classify_signal(i, signals)\n",
    "    signals.loc[i, 'score'] = score\n",
    "\n",
    "signals"
   ]
  },
  {
   "cell_type": "code",
   "execution_count": 8,
   "metadata": {},
   "outputs": [
    {
     "data": {
      "text/plain": [
       "Counter({0.0: 640, 1.0: 47, nan: 1, nan: 1, nan: 1, nan: 1})"
      ]
     },
     "execution_count": 8,
     "metadata": {},
     "output_type": "execute_result"
    }
   ],
   "source": [
    "from collections import Counter\n",
    "Counter(signals['score'])"
   ]
  },
  {
   "cell_type": "code",
   "execution_count": 10,
   "metadata": {},
   "outputs": [
    {
     "name": "stderr",
     "output_type": "stream",
     "text": [
      "/var/folders/54/9m1dh2kj565gsww4_f2jdm5r0000gn/T/ipykernel_75100/3527275329.py:1: SettingWithCopyWarning: \n",
      "A value is trying to be set on a copy of a slice from a DataFrame.\n",
      "Try using .loc[row_indexer,col_indexer] = value instead\n",
      "\n",
      "See the caveats in the documentation: https://pandas.pydata.org/pandas-docs/stable/user_guide/indexing.html#returning-a-view-versus-a-copy\n",
      "  signals['final_signal'] = signals['signal'][signals['score'] > 0]\n"
     ]
    }
   ],
   "source": [
    "signals['final_signal'] = signals['signal'][signals['score'] > 0]\n",
    "\n",
    "buy_indices = signals.index[signals['final_signal'] == 1].tolist()\n",
    "sell_indices = signals.index[signals['final_signal'] == -1].tolist()"
   ]
  },
  {
   "cell_type": "code",
   "execution_count": null,
   "metadata": {},
   "outputs": [
    {
     "data": {
      "image/png": "[encoded data removed]",
      "text/plain": [
       "<Figure size 1500x500 with 1 Axes>"
      ]
     },
     "metadata": {},
     "output_type": "display_data"
    }
   ],
   "source": [
    "buy_indices = signals.index[signals['final_buy_signal'] == 1].tolist()\n",
    "sell_indices = signals.index[signals['final_sell_signal'] == 1].tolist()\n",
    " \n",
    "fig = plt.figure(figsize = (15,5))\n",
    "plt.plot(signals['Close'], color='r', lw=2.)\n",
    "plt.plot(signals['Close'], '^', markersize=10, color='m', label = 'buying signal', markevery = buy_indices)\n",
    "plt.plot(signals['Close'], 'v', markersize=10, color='k', label = 'selling signal', markevery = sell_indices)\n",
    "plt.title('MACD Signal')\n",
    "plt.legend()\n",
    "plt.show()"
   ]
  }
 ],
 "metadata": {
  "kernelspec": {
   "display_name": "timemoe",
   "language": "python",
   "name": "python3"
  },
  "language_info": {
   "codemirror_mode": {
    "name": "ipython",
    "version": 3
   },
   "file_extension": ".py",
   "mimetype": "text/x-python",
   "name": "python",
   "nbconvert_exporter": "python",
   "pygments_lexer": "ipython3",
   "version": "3.10.16"
  }
 },
 "nbformat": 4,
 "nbformat_minor": 2
}
